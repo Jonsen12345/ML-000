{
  "nbformat": 4,
  "nbformat_minor": 0,
  "metadata": {
    "colab": {
      "name": "target_encoding.ipynb",
      "private_outputs": true,
      "provenance": []
    },
    "kernelspec": {
      "name": "python3",
      "display_name": "Python 3"
    },
    "accelerator": "GPU"
  },
  "cells": [
    {
      "cell_type": "code",
      "metadata": {
        "id": "GjxjeB8FcZu4"
      },
      "source": [
        "import numpy as np\r\n",
        "import pandas as pd\r\n",
        "\r\n",
        "def target_mean_v1(data, y_name, x_name):\r\n",
        "    result = np.zeros(data.shape[0])\r\n",
        "    for i in range(data.shape[0]):\r\n",
        "        groupby_result = data[data.index != i].groupby([x_name], as_index=False).agg(['mean', 'count'])        \r\n",
        "        result[i] = groupby_result.loc[groupby_result.index == data.loc[i, x_name], (y_name, 'mean')]\r\n",
        "    return result\r\n",
        "\r\n",
        "#王老师v2,313ms,0（n2）改成了O(n)，313ms\r\n",
        "def target_mean_v2(data, y_name, x_name):\r\n",
        "    result = np.zeros(data.shape[0])\r\n",
        "    value_dict = dict()\r\n",
        "    count_dict = dict()\r\n",
        "    for i in range(data.shape[0]):\r\n",
        "        if data.loc[i, x_name] not in value_dict.keys():\r\n",
        "            value_dict[data.loc[i, x_name]] = data.loc[i, y_name]\r\n",
        "            count_dict[data.loc[i, x_name]] = 1\r\n",
        "        else:\r\n",
        "            value_dict[data.loc[i, x_name]] += data.loc[i, y_name]\r\n",
        "            count_dict[data.loc[i, x_name]] += 1\r\n",
        "    for i in range(data.shape[0]):\r\n",
        "        result[i] = (value_dict[data.loc[i, x_name]] - data.loc[i, y_name]) / (count_dict[data.loc[i, x_name]] - 1)\r\n",
        "    return result\r\n",
        "\r\n"
      ],
      "execution_count": null,
      "outputs": []
    },
    {
      "cell_type": "code",
      "metadata": {
        "id": "kbkK_hiid4Ur"
      },
      "source": [
        "\r\n",
        "import numpy as np\r\n",
        "import pandas as pd\r\n",
        "\r\n",
        "\r\n",
        "y = np.random.randint(2, size=(5000, 1)) #cython 中无random和dataframe\r\n",
        "x = np.random.randint(10, size=(5000, 1))\r\n",
        "\r\n",
        "data = pd.DataFrame(np.concatenate([y, x], axis=1), columns=['y', 'x'])\r\n",
        "#display(data.index,\"\\n\")\r\n",
        "#result_1 = target_mean_v1(data, 'y', 'x')\r\n",
        "result_2 = target_mean_v2(data, 'y', 'x')\r\n",
        "#print(result_2)\r\n",
        "#diff = np.linalg.norm(result_1 - result_2)\r\n",
        "#print(diff)\r\n",
        "\r\n"
      ],
      "execution_count": null,
      "outputs": []
    },
    {
      "cell_type": "code",
      "metadata": {
        "id": "n1aIZYCRmamx"
      },
      "source": [
        "data2=pd.DataFrame([[1,2,3],[11,22,33],[111,222,333]],columns=['col1','col2','col3'])\r\n",
        "display(data2)\r\n",
        "result=data2.agg(['max','min','mean'])\r\n",
        "result.index"
      ],
      "execution_count": null,
      "outputs": []
    },
    {
      "cell_type": "code",
      "metadata": {
        "id": "NBsKxHh-3Rrh"
      },
      "source": [
        "#v3改进用nparray数组替代dataframe在循环中的调用,80.3ms\r\n",
        "\r\n",
        "def target_mean_v3(data:pd.DataFrame,y_name:str,x_name:str):\r\n",
        "  rows=data.shape[0]\r\n",
        "  result=np.zeros(rows)\r\n",
        "  value_dict=dict()\r\n",
        "  count_dict=dict()\r\n",
        "  x_series=data[x_name]\r\n",
        "  y_series=data[y_name]\r\n",
        "  for i in range(rows):\r\n",
        "    x_single=x_series[i]\r\n",
        "    y_single=y_series[i]\r\n",
        "    if x_single in value_dict:\r\n",
        "      value_dict[x_single]+=y_single\r\n",
        "      count_dict[x_single]+=1\r\n",
        "    else:\r\n",
        "      value_dict[x_single]=y_single\r\n",
        "      count_dict[x_single]=1\r\n",
        "  for i in range(rows):\r\n",
        "    x_single=x_series[i]\r\n",
        "    y_single=y_series[i]\r\n",
        "    result[i]=(value_dict[x_single]-y_single)/(count_dict[x_single]-1)\r\n",
        "  return result\r\n"
      ],
      "execution_count": null,
      "outputs": []
    },
    {
      "cell_type": "code",
      "metadata": {
        "id": "48PeUCtY2cvV"
      },
      "source": [
        "#v4改进用nparray数组替代dataframe在循环中的调用,结果8.83ms\r\n",
        "\r\n",
        "def target_mean_v4(data:pd.DataFrame,y_name:str,x_name:str):\r\n",
        "  rows=data.shape[0]\r\n",
        "  result=np.zeros(rows)\r\n",
        "  value_dict=dict()\r\n",
        "  count_dict=dict()\r\n",
        "  x_series=np.array(data[x_name])\r\n",
        "  y_series=np.array(data[y_name])\r\n",
        "  for i in range(rows):\r\n",
        "    x_single=x_series[i]\r\n",
        "    y_single=y_series[i]\r\n",
        "    if x_single in value_dict:\r\n",
        "      value_dict[x_single]+=y_single\r\n",
        "      count_dict[x_single]+=1\r\n",
        "    else:\r\n",
        "      value_dict[x_single]=y_single\r\n",
        "      count_dict[x_single]=1\r\n",
        "  for i in range(rows):\r\n",
        "    x_single=x_series[i]\r\n",
        "    y_single=y_series[i]\r\n",
        "    result[i]=(value_dict[x_single]-y_single)/(count_dict[x_single]-1)\r\n",
        "  return result\r\n"
      ],
      "execution_count": null,
      "outputs": []
    },
    {
      "cell_type": "code",
      "metadata": {
        "id": "-0ksiOqY6Pot"
      },
      "source": [
        "#v4上cython\r\n",
        "%%cython -a -ano\r\n",
        "\r\n",
        "cimport cython\r\n",
        "import numpy as np\r\n",
        "cimport numpy as cnp\r\n",
        "import pandas as pd\r\n",
        "from libcpp.algorithm cimport sort as stdsort\r\n",
        "from libcpp.vector cimport vector\r\n",
        "\r\n",
        "def target_mean_v5(data,cnp.str y_name,cnp.str x_name):\r\n",
        "  cdef:\r\n",
        "   int rows=data.shape[0]\r\n",
        "   cnp.ndarray[float] result=np.zeros(rows,dtype=float)\r\n",
        "   dict value_dict={}\r\n",
        "   dict count_dict={}\r\n",
        "   cnp.ndarray[float] x_series=np.array(data[x_name])\r\n",
        "   cnp.ndarray[float] y_series=np.array(data[y_name])\r\n",
        "  for i from 0<=i<rows:\r\n",
        "    x_single=x_series[i]\r\n",
        "    y_single=y_series[i]\r\n",
        "    if x_single in value_dict:\r\n",
        "      value_dict[x_single]+=y_single\r\n",
        "      count_dict[x_single]+=1\r\n",
        "    else:\r\n",
        "      value_dict[x_single]=y_single\r\n",
        "      count_dict[x_single]=1\r\n",
        "  for i from 0<=i<rows:\r\n",
        "    x_single=x_series[i]\r\n",
        "    y_single=y_series[i]\r\n",
        "    result[i]=(value_dict[x_single]-y_single)/(count_dict[x_single]-1)\r\n",
        "  return result"
      ],
      "execution_count": null,
      "outputs": []
    },
    {
      "cell_type": "code",
      "metadata": {
        "id": "s5uxcg_vcuAV"
      },
      "source": [
        "from line_profiler import LineProfiler\r\n",
        "import numpy as np\r\n",
        "import pandas as pd\r\n",
        "\r\n",
        "profiler=LineProfiler(target_mean_v2)\r\n",
        "profiler.enable()\r\n",
        "target_mean_v3(data,'y','x')\r\n",
        "profiler.disable()\r\n",
        "profiler.print_stats\r\n",
        "\r\n",
        "%load_ext line_profiler\r\n",
        "%lprun -f target_mean_v5 target_mean_v5(data,'y','x')\r\n",
        "\r\n"
      ],
      "execution_count": null,
      "outputs": []
    },
    {
      "cell_type": "code",
      "metadata": {
        "id": "BvIFF4ima5ry"
      },
      "source": [
        "#import timeit\r\n",
        "%%timeit\r\n",
        "target_mean_v5(data,'y','x')"
      ],
      "execution_count": null,
      "outputs": []
    },
    {
      "cell_type": "code",
      "metadata": {
        "id": "eLhbcyV2FVNB"
      },
      "source": [
        "\r\n"
      ],
      "execution_count": null,
      "outputs": []
    }
  ]
}